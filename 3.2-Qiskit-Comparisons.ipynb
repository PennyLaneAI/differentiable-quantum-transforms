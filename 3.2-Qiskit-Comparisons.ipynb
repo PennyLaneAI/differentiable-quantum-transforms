{
 "cells": [
  {
   "cell_type": "markdown",
   "id": "f9f59291-e107-422f-9791-eb8a9bb1b225",
   "metadata": {},
   "source": [
    "# 3.2 Comparison with other programming frameworks"
   ]
  },
  {
   "cell_type": "code",
   "execution_count": 1,
   "id": "e78b79e3-2ce8-46d1-9a8b-d9f04942a970",
   "metadata": {},
   "outputs": [],
   "source": [
    "import pennylane as qml\n",
    "\n",
    "from pennylane import numpy as pnp\n",
    "import numpy as np\n",
    "\n",
    "import qiskit\n",
    "from qiskit.compiler import transpile\n",
    "from qiskit.transpiler.basepasses import TransformationPass\n",
    "from qiskit.transpiler import PassManager\n",
    "from qiskit.circuit import QuantumRegister, QuantumCircuit, Parameter\n",
    "from qiskit.opflow import Z,StateFn, CircuitStateFn\n",
    "from qiskit.opflow.gradients import Gradient"
   ]
  },
  {
   "cell_type": "markdown",
   "id": "1592127b-da2b-4898-a8d3-5077a1662c2b",
   "metadata": {},
   "source": [
    "In the examples below, we use Qiskit to reproduce some of the transforms functionality of PennyLane.  "
   ]
  },
  {
   "cell_type": "markdown",
   "id": "f0591a6c-fc58-4923-88f5-ce7efd9253a1",
   "metadata": {},
   "source": [
    "## Example 1: overrotation with a differentiable parameter"
   ]
  },
  {
   "cell_type": "markdown",
   "id": "e789ba4e-cda5-4dee-83fb-6ecc987f85e7",
   "metadata": {},
   "source": [
    "We define below a `TransformationPass` that overrotates all `RX` gates by a specified angle."
   ]
  },
  {
   "cell_type": "code",
   "execution_count": 2,
   "id": "5bff3dc2-bb46-4215-b050-a15e2469797d",
   "metadata": {},
   "outputs": [],
   "source": [
    "class OverrotateRX(TransformationPass):\n",
    "    def __init__(self, angle):\n",
    "        self.angle = angle\n",
    "        super().__init__()\n",
    "        \n",
    "    def run(self, dag):\n",
    "        for node in dag.op_nodes():\n",
    "            if node.name == 'rx':\n",
    "                node.op.params[0] += self.angle\n",
    "        return dag"
   ]
  },
  {
   "cell_type": "markdown",
   "id": "1a50023c-2312-4980-9964-b94e7ad7d016",
   "metadata": {},
   "source": [
    "We test this on a simple subroutine that itself takes a parameter in its `RX` gate."
   ]
  },
  {
   "cell_type": "code",
   "execution_count": 3,
   "id": "a71a78b3-9ed3-4e1a-93d3-1acdcb4bad89",
   "metadata": {},
   "outputs": [],
   "source": [
    "def subroutine(theta):\n",
    "    q = QuantumRegister(1, 'q')\n",
    "    circ = QuantumCircuit(q)\n",
    "    circ.rx(theta, q[0])\n",
    "    circ.h(q[0])\n",
    "    circ.ry(0.1, q[0])\n",
    "    return circ"
   ]
  },
  {
   "cell_type": "markdown",
   "id": "bd442933-51f3-4976-86bf-3161271886b7",
   "metadata": {},
   "source": [
    "Below, we compute the gradient of both the subroutine parameters, and the parameter of the `TransformationPass`."
   ]
  },
  {
   "cell_type": "code",
   "execution_count": 4,
   "id": "31943575-081b-4e4a-a5a8-095779d00b91",
   "metadata": {},
   "outputs": [
    {
     "name": "stdout",
     "output_type": "stream",
     "text": [
      "[(-0.4406608121346723+0j), (-0.03726993167698134+0j), (-0.4406608121346723+0j), (-0.03726993167698134+0j)]\n"
     ]
    }
   ],
   "source": [
    "def evaluate_grad_with_qiskit(params, t_params):\n",
    "    p0, p1, t0, t1 = Parameter('p0'), Parameter('p1'), Parameter('t0'), Parameter('t1')\n",
    "    \n",
    "    # We create a circuit that applies the subroutine twice, each time\n",
    "    # with a different parameter for the transform.\n",
    "    circ = PassManager(OverrotateRX(t0)).run(subroutine(p0))\n",
    "    circ.compose(PassManager(OverrotateRX(t1)).run(subroutine(p1)), inplace=True)\n",
    "    \n",
    "    # Now let's compute the gradients w.r.t. all of the parameters\n",
    "    op = ~StateFn(Z) @ CircuitStateFn(primitive=circ, coeff=1.)\n",
    "    \n",
    "    # Use Qiskit's built-in parameter-shift gradient computation\n",
    "    grad = Gradient(grad_method='param_shift').convert(operator=op, params=[p0, p1, t0, t1])\n",
    "    \n",
    "    return grad.assign_parameters({p0: params[0], p1: params[1], t0: t_params[0], t1: t_params[1]}).eval()\n",
    "\n",
    "\n",
    "params = np.array([0.3, 0.4])\n",
    "t_params = np.array([0.1, 0.2])\n",
    "print(evaluate_grad_with_qiskit(params, t_params))"
   ]
  },
  {
   "cell_type": "markdown",
   "id": "4a8c58e7-d901-43bf-83bc-f3ac292631bd",
   "metadata": {},
   "source": [
    "Let's do the same computation in PennyLane using a `qfunc_transform`. Note that to get the gradient, we need only add the `@qml.gradients.param_shift` decorator. The results of the gradient computation are also tensors which can be fed forward into other differentiable computations."
   ]
  },
  {
   "cell_type": "code",
   "execution_count": 5,
   "id": "2c9ce9e9-d842-4abf-8a2b-0d1691f05559",
   "metadata": {},
   "outputs": [
    {
     "name": "stdout",
     "output_type": "stream",
     "text": [
      "(tensor([-0.44066081, -0.03726993], requires_grad=True), tensor([-0.44066081, -0.03726993], requires_grad=True))\n"
     ]
    }
   ],
   "source": [
    "dev = qml.device('default.qubit', wires=1)\n",
    "\n",
    "@qml.qfunc_transform\n",
    "def overrotate_rx(tape, epsilon):\n",
    "    for op in tape:\n",
    "        if op.name == 'RX':\n",
    "            qml.RX(op.data[0] + epsilon, wires=op.wires[0])\n",
    "        else:\n",
    "            qml.apply(op)\n",
    "\n",
    "def subroutine(theta):\n",
    "    qml.RX(theta, wires=0)\n",
    "    qml.Hadamard(wires=0)\n",
    "    qml.RY(0.1, wires=0)\n",
    "\n",
    "@qml.gradients.param_shift\n",
    "@qml.qnode(dev)\n",
    "def evaluate_grad_with_pl(params, transform_params):\n",
    "    overrotate_rx(transform_params[0])(subroutine)(params[0])\n",
    "    overrotate_rx(transform_params[1])(subroutine)(params[1])\n",
    "    return qml.expval(qml.PauliZ(0))\n",
    "\n",
    "params = pnp.array([0.3, 0.4], requires_grad=True)\n",
    "t_params = pnp.array([0.1, 0.2], requires_grad=True)\n",
    "print(evaluate_grad_with_pl(params, t_params))"
   ]
  },
  {
   "cell_type": "markdown",
   "id": "c9ada62e-b085-40ff-b796-8c5df33fb9d0",
   "metadata": {},
   "source": [
    "## Example 2: autodifferentiation and transpilation compilation pass "
   ]
  },
  {
   "cell_type": "markdown",
   "id": "5c215b03-0aa4-48c9-a6aa-3e9d49759759",
   "metadata": {},
   "source": [
    "In the example below, we will transpile a circuit and compute gradients."
   ]
  },
  {
   "cell_type": "code",
   "execution_count": 6,
   "id": "dad142af-6d6c-4e0c-88bd-7817bf5f6ce7",
   "metadata": {},
   "outputs": [
    {
     "data": {
      "text/plain": [
       "<qiskit.circuit.instructionset.InstructionSet at 0x7fef7b0675e0>"
      ]
     },
     "execution_count": 6,
     "metadata": {},
     "output_type": "execute_result"
    }
   ],
   "source": [
    "p0, p1 = Parameter('p0'), Parameter('p1')\n",
    "    \n",
    "# A simple circuit with two RX that should get merged.\n",
    "q = QuantumRegister(1, 'q')\n",
    "circ = QuantumCircuit(q)\n",
    "circ.rx(p0, q[0])\n",
    "circ.rx(p1, q[0])"
   ]
  },
  {
   "cell_type": "code",
   "execution_count": 7,
   "id": "b5d96ceb-d660-47b9-b9a7-f863f1e41862",
   "metadata": {},
   "outputs": [
    {
     "data": {
      "text/html": [
       "<pre style=\"word-wrap: normal;white-space: pre;background: #fff0;line-height: 1.1;font-family: &quot;Courier New&quot;,Courier,monospace\">   ┌────────┐┌────────┐\n",
       "q: ┤ Rx(p0) ├┤ Rx(p1) ├\n",
       "   └────────┘└────────┘</pre>"
      ],
      "text/plain": [
       "   ┌────────┐┌────────┐\n",
       "q: ┤ Rx(p0) ├┤ Rx(p1) ├\n",
       "   └────────┘└────────┘"
      ]
     },
     "execution_count": 7,
     "metadata": {},
     "output_type": "execute_result"
    }
   ],
   "source": [
    "circ.draw()"
   ]
  },
  {
   "cell_type": "code",
   "execution_count": 8,
   "id": "196b1c68-f345-4011-8301-459017900c27",
   "metadata": {},
   "outputs": [
    {
     "data": {
      "text/html": [
       "<pre style=\"word-wrap: normal;white-space: pre;background: #fff0;line-height: 1.1;font-family: &quot;Courier New&quot;,Courier,monospace\">   ┌────────┐┌────────┐\n",
       "q: ┤ Rx(p0) ├┤ Rx(p1) ├\n",
       "   └────────┘└────────┘</pre>"
      ],
      "text/plain": [
       "   ┌────────┐┌────────┐\n",
       "q: ┤ Rx(p0) ├┤ Rx(p1) ├\n",
       "   └────────┘└────────┘"
      ]
     },
     "execution_count": 8,
     "metadata": {},
     "output_type": "execute_result"
    }
   ],
   "source": [
    "transpiled_circ = transpile(circ, optimization_level=2)\n",
    "transpiled_circ.draw()"
   ]
  },
  {
   "cell_type": "markdown",
   "id": "ccc524ae-0b40-4484-a825-e487f4729372",
   "metadata": {},
   "source": [
    "The transpiler doesn't operate on parametrized circuits, so let's assign some values and then transpile."
   ]
  },
  {
   "cell_type": "code",
   "execution_count": 9,
   "id": "a1d318e6-91a5-4ea7-867e-0fcc71991f27",
   "metadata": {},
   "outputs": [],
   "source": [
    "params = np.array([0.3, 0.4])\n",
    "circ_with_params = circ.assign_parameters({p0: params[0], p1: params[1]})"
   ]
  },
  {
   "cell_type": "code",
   "execution_count": 10,
   "id": "7d533005-0c59-4cf9-9ea3-514b8c61fe99",
   "metadata": {},
   "outputs": [
    {
     "data": {
      "text/html": [
       "<pre style=\"word-wrap: normal;white-space: pre;background: #fff0;line-height: 1.1;font-family: &quot;Courier New&quot;,Courier,monospace\">   ┌─────────┐┌─────────┐\n",
       "q: ┤ Rx(0.3) ├┤ Rx(0.4) ├\n",
       "   └─────────┘└─────────┘</pre>"
      ],
      "text/plain": [
       "   ┌─────────┐┌─────────┐\n",
       "q: ┤ Rx(0.3) ├┤ Rx(0.4) ├\n",
       "   └─────────┘└─────────┘"
      ]
     },
     "execution_count": 10,
     "metadata": {},
     "output_type": "execute_result"
    }
   ],
   "source": [
    "circ_with_params.draw()"
   ]
  },
  {
   "cell_type": "code",
   "execution_count": 11,
   "id": "98a2ece4-0676-479d-a240-45cc1135b287",
   "metadata": {},
   "outputs": [
    {
     "data": {
      "text/html": [
       "<pre style=\"word-wrap: normal;white-space: pre;background: #fff0;line-height: 1.1;font-family: &quot;Courier New&quot;,Courier,monospace\">   ┌──────────────────┐\n",
       "q: ┤ U3(0.7,-π/2,π/2) ├\n",
       "   └──────────────────┘</pre>"
      ],
      "text/plain": [
       "   ┌──────────────────┐\n",
       "q: ┤ U3(0.7,-π/2,π/2) ├\n",
       "   └──────────────────┘"
      ]
     },
     "execution_count": 11,
     "metadata": {},
     "output_type": "execute_result"
    }
   ],
   "source": [
    "transpiled_circ_with_params = transpile(circ_with_params, optimization_level=2)\n",
    "transpiled_circ_with_params.draw()"
   ]
  },
  {
   "cell_type": "markdown",
   "id": "57fc03b7-81a5-4687-b669-093ceaa016c4",
   "metadata": {},
   "source": [
    "Now let's compute the gradients with respect to the two parameters; we get a total of 4 (two shifts per parameter). Note that the output is structured in a way that is similar to a batch transform: there is a list of operations, and coefficients detailing how execution results should be multiplied and summed together."
   ]
  },
  {
   "cell_type": "code",
   "execution_count": 12,
   "id": "92e58065-938f-450c-a1e1-50034750bfc2",
   "metadata": {},
   "outputs": [
    {
     "name": "stdout",
     "output_type": "stream",
     "text": [
      "ListOp([\n",
      "  SummedOp([\n",
      "    0.5 * ComposedOp([\n",
      "      OperatorMeasurement(Z),\n",
      "      CircuitStateFn(\n",
      "         ┌─────────────────────┐┌─────────┐\n",
      "      q: ┤ Rx(1.8707963267949) ├┤ Rx(0.4) ├\n",
      "         └─────────────────────┘└─────────┘\n",
      "      )\n",
      "    ]),\n",
      "    -0.5 * ComposedOp([\n",
      "      OperatorMeasurement(Z),\n",
      "      CircuitStateFn(\n",
      "         ┌──────────────────────┐┌─────────┐\n",
      "      q: ┤ Rx(-1.2707963267949) ├┤ Rx(0.4) ├\n",
      "         └──────────────────────┘└─────────┘\n",
      "      )\n",
      "    ])\n",
      "  ]),\n",
      "  SummedOp([\n",
      "    0.5 * ComposedOp([\n",
      "      OperatorMeasurement(Z),\n",
      "      CircuitStateFn(\n",
      "         ┌─────────┐┌─────────────────────┐\n",
      "      q: ┤ Rx(0.3) ├┤ Rx(1.9707963267949) ├\n",
      "         └─────────┘└─────────────────────┘\n",
      "      )\n",
      "    ]),\n",
      "    -0.5 * ComposedOp([\n",
      "      OperatorMeasurement(Z),\n",
      "      CircuitStateFn(\n",
      "         ┌─────────┐┌──────────────────────┐\n",
      "      q: ┤ Rx(0.3) ├┤ Rx(-1.1707963267949) ├\n",
      "         └─────────┘└──────────────────────┘\n",
      "      )\n",
      "    ])\n",
      "  ])\n",
      "])\n"
     ]
    }
   ],
   "source": [
    "op = ~StateFn(Z) @ CircuitStateFn(primitive=transpiled_circ, coeff=1.)\n",
    "\n",
    "grad = Gradient(grad_method='param_shift').convert(operator=op, params=[p0, p1])\n",
    "grad_circuits = grad.assign_parameters({p0: params[0], p1: params[1]})\n",
    "\n",
    "print(grad_circuits)"
   ]
  },
  {
   "cell_type": "markdown",
   "id": "597bb6d8-a93c-4598-8e5d-4850d55c44fe",
   "metadata": {},
   "source": [
    "Let's actually evaluate the gradient now:"
   ]
  },
  {
   "cell_type": "code",
   "execution_count": 13,
   "id": "d885a046-87d8-46da-b4fb-ec3fae09f7ba",
   "metadata": {},
   "outputs": [
    {
     "name": "stdout",
     "output_type": "stream",
     "text": [
      "[(-0.6442176872376912+0j), (-0.644217687237691+0j)]\n"
     ]
    }
   ],
   "source": [
    "res = grad.assign_parameters({p0: params[0], p1: params[1]}).eval()\n",
    "print(res)"
   ]
  },
  {
   "cell_type": "markdown",
   "id": "ba877000-6558-40dd-b09a-fbc17fd41212",
   "metadata": {},
   "source": [
    "Note that transpilation is not performed in the above, even though we have parameter values assigned, and use the transpiled circuits. \n",
    "\n",
    "Instead, we can apply a transpilation pass to the constructed gradient circuits directly:"
   ]
  },
  {
   "cell_type": "code",
   "execution_count": 14,
   "id": "2c58d03e-d3ed-498e-a5de-b556c5d9daca",
   "metadata": {},
   "outputs": [],
   "source": [
    "extracted_grad_circuits = [\n",
    "    grad_circuits[0][0][1].to_circuit(),\n",
    "    grad_circuits[0][1][1].to_circuit(), \n",
    "    grad_circuits[0][0][1].to_circuit(),\n",
    "    grad_circuits[0][1][1].to_circuit()\n",
    "]\n",
    "\n",
    "transpiled_grad_circuits = transpile(extracted_grad_circuits, optimization_level=2)"
   ]
  },
  {
   "cell_type": "code",
   "execution_count": 15,
   "id": "6ed31af5-a469-4a16-9a3f-e9bf5229105d",
   "metadata": {},
   "outputs": [
    {
     "name": "stdout",
     "output_type": "stream",
     "text": [
      "   ┌─────────────────────┐\n",
      "q: ┤ U3(2.2708,-π/2,π/2) ├\n",
      "   └─────────────────────┘\n",
      "   ┌─────────────────────┐\n",
      "q: ┤ U3(0.8708,π/2,-π/2) ├\n",
      "   └─────────────────────┘\n",
      "   ┌─────────────────────┐\n",
      "q: ┤ U3(2.2708,-π/2,π/2) ├\n",
      "   └─────────────────────┘\n",
      "   ┌─────────────────────┐\n",
      "q: ┤ U3(0.8708,π/2,-π/2) ├\n",
      "   └─────────────────────┘\n"
     ]
    }
   ],
   "source": [
    "for t_grad_circuit in transpiled_grad_circuits:\n",
    "    print(t_grad_circuit.draw())"
   ]
  },
  {
   "cell_type": "markdown",
   "id": "c1425182-2925-4bb6-bd8d-614ddb641e48",
   "metadata": {},
   "source": [
    "Even though they are optimized, we would still be executing four circuits. Now, recall that we had previously transpiled the circuit and assigned parameter values. Presumably with just one gate, we could compute the gradient with two evaluations. However, once the parameters are assigned there are no more differentiable parameters and so no gradient can be computed."
   ]
  },
  {
   "cell_type": "code",
   "execution_count": 16,
   "id": "1465fe50-8659-4e52-92dc-d31564585cac",
   "metadata": {},
   "outputs": [
    {
     "data": {
      "text/html": [
       "<pre style=\"word-wrap: normal;white-space: pre;background: #fff0;line-height: 1.1;font-family: &quot;Courier New&quot;,Courier,monospace\">   ┌──────────────────┐\n",
       "q: ┤ U3(0.7,-π/2,π/2) ├\n",
       "   └──────────────────┘</pre>"
      ],
      "text/plain": [
       "   ┌──────────────────┐\n",
       "q: ┤ U3(0.7,-π/2,π/2) ├\n",
       "   └──────────────────┘"
      ]
     },
     "execution_count": 16,
     "metadata": {},
     "output_type": "execute_result"
    }
   ],
   "source": [
    "transpiled_circ_with_params = transpile(circ_with_params, optimization_level=2)\n",
    "transpiled_circ_with_params.draw()"
   ]
  },
  {
   "cell_type": "code",
   "execution_count": 17,
   "id": "f9def6c6-d9a7-4714-9659-37017a477b6f",
   "metadata": {},
   "outputs": [
    {
     "ename": "ValueError",
     "evalue": "The operator we are taking the gradient of is not parameterized!",
     "output_type": "error",
     "traceback": [
      "\u001b[0;31m---------------------------------------------------------------------------\u001b[0m",
      "\u001b[0;31mValueError\u001b[0m                                Traceback (most recent call last)",
      "Cell \u001b[0;32mIn[17], line 3\u001b[0m\n\u001b[1;32m      1\u001b[0m op \u001b[38;5;241m=\u001b[39m \u001b[38;5;241m~\u001b[39mStateFn(Z) \u001b[38;5;241m@\u001b[39m CircuitStateFn(primitive\u001b[38;5;241m=\u001b[39mtranspiled_circ_with_params, coeff\u001b[38;5;241m=\u001b[39m\u001b[38;5;241m1.\u001b[39m)\n\u001b[0;32m----> 3\u001b[0m grad \u001b[38;5;241m=\u001b[39m \u001b[43mGradient\u001b[49m\u001b[43m(\u001b[49m\u001b[43mgrad_method\u001b[49m\u001b[38;5;241;43m=\u001b[39;49m\u001b[38;5;124;43m'\u001b[39;49m\u001b[38;5;124;43mparam_shift\u001b[39;49m\u001b[38;5;124;43m'\u001b[39;49m\u001b[43m)\u001b[49m\u001b[38;5;241;43m.\u001b[39;49m\u001b[43mconvert\u001b[49m\u001b[43m(\u001b[49m\u001b[43moperator\u001b[49m\u001b[38;5;241;43m=\u001b[39;49m\u001b[43mop\u001b[49m\u001b[43m,\u001b[49m\u001b[43m \u001b[49m\u001b[43mparams\u001b[49m\u001b[38;5;241;43m=\u001b[39;49m\u001b[43m[\u001b[49m\u001b[43mp0\u001b[49m\u001b[43m,\u001b[49m\u001b[43m \u001b[49m\u001b[43mp1\u001b[49m\u001b[43m]\u001b[49m\u001b[43m)\u001b[49m\n",
      "File \u001b[0;32m~/.conda/envs/xanadu/lib/python3.9/site-packages/qiskit/opflow/gradients/gradient.py:59\u001b[0m, in \u001b[0;36mGradient.convert\u001b[0;34m(self, operator, params)\u001b[0m\n\u001b[1;32m     45\u001b[0m \u001b[38;5;124mr\u001b[39m\u001b[38;5;124;03m\"\"\"\u001b[39;00m\n\u001b[1;32m     46\u001b[0m \u001b[38;5;124;03mArgs:\u001b[39;00m\n\u001b[1;32m     47\u001b[0m \u001b[38;5;124;03m    operator: The operator we are taking the gradient of.\u001b[39;00m\n\u001b[0;32m   (...)\u001b[0m\n\u001b[1;32m     56\u001b[0m \u001b[38;5;124;03m    ValueError: If ``operator`` is not parameterized.\u001b[39;00m\n\u001b[1;32m     57\u001b[0m \u001b[38;5;124;03m\"\"\"\u001b[39;00m\n\u001b[1;32m     58\u001b[0m \u001b[38;5;28;01mif\u001b[39;00m \u001b[38;5;28mlen\u001b[39m(operator\u001b[38;5;241m.\u001b[39mparameters) \u001b[38;5;241m==\u001b[39m \u001b[38;5;241m0\u001b[39m:\n\u001b[0;32m---> 59\u001b[0m     \u001b[38;5;28;01mraise\u001b[39;00m \u001b[38;5;167;01mValueError\u001b[39;00m(\u001b[38;5;124m\"\u001b[39m\u001b[38;5;124mThe operator we are taking the gradient of is not parameterized!\u001b[39m\u001b[38;5;124m\"\u001b[39m)\n\u001b[1;32m     60\u001b[0m \u001b[38;5;28;01mif\u001b[39;00m params \u001b[38;5;129;01mis\u001b[39;00m \u001b[38;5;28;01mNone\u001b[39;00m:\n\u001b[1;32m     61\u001b[0m     params \u001b[38;5;241m=\u001b[39m \u001b[38;5;28msorted\u001b[39m(operator\u001b[38;5;241m.\u001b[39mparameters, key\u001b[38;5;241m=\u001b[39mfunctools\u001b[38;5;241m.\u001b[39mcmp_to_key(_compare_parameters))\n",
      "\u001b[0;31mValueError\u001b[0m: The operator we are taking the gradient of is not parameterized!"
     ]
    }
   ],
   "source": [
    "op = ~StateFn(Z) @ CircuitStateFn(primitive=transpiled_circ_with_params, coeff=1.)\n",
    "\n",
    "grad = Gradient(grad_method='param_shift').convert(operator=op, params=[p0, p1])"
   ]
  },
  {
   "cell_type": "markdown",
   "id": "87fe87e9-761a-4124-8fe0-fd6e3f1a0ae9",
   "metadata": {},
   "source": [
    "Now we do the same computation in PennyLane. We can stack a couple transforms here; first we merge the rotation gates, create a QNode, and take the gradient using the parameter-shift rule. Note that in this structure, every time we run this QNode, the gradient is what is returned."
   ]
  },
  {
   "cell_type": "code",
   "execution_count": 18,
   "id": "5bfcfee0-02b0-498a-8cb7-85f6e455bd15",
   "metadata": {},
   "outputs": [],
   "source": [
    "@qml.gradients.param_shift\n",
    "@qml.qnode(dev)\n",
    "@qml.transforms.merge_rotations()\n",
    "def evaluate_grad_with_pl(params):\n",
    "    qml.RX(params[0], wires=0)\n",
    "    qml.RX(params[1], wires=0)\n",
    "    return qml.expval(qml.PauliZ(0))"
   ]
  },
  {
   "cell_type": "code",
   "execution_count": 19,
   "id": "4ddea6f7-208d-44ff-a34c-0202cfcb0630",
   "metadata": {},
   "outputs": [],
   "source": [
    "params = pnp.array([0.3, 0.4], requires_grad=True)"
   ]
  },
  {
   "cell_type": "code",
   "execution_count": 20,
   "id": "a36ce2ef-6b15-45a9-9348-fa30eb9e528c",
   "metadata": {},
   "outputs": [
    {
     "data": {
      "text/plain": [
       "tensor([-0.64421769, -0.64421769], requires_grad=True)"
      ]
     },
     "execution_count": 20,
     "metadata": {},
     "output_type": "execute_result"
    }
   ],
   "source": [
    "evaluate_grad_with_pl(params)"
   ]
  },
  {
   "cell_type": "markdown",
   "id": "38b26b29-540c-4c01-82d3-1cbb6b2d6600",
   "metadata": {},
   "source": [
    "The output is again a tensor that is still differentiable. Furthermore, we can see below that only two circuits are executed for the gradient. After merging the two gates, the parameter-shift rule was applied to the joint parameter."
   ]
  },
  {
   "cell_type": "code",
   "execution_count": 21,
   "id": "b4ae61a8-ea5f-40a3-b76e-5838147b3e00",
   "metadata": {},
   "outputs": [
    {
     "name": "stdout",
     "output_type": "stream",
     "text": [
      "0: ──RX(2.27)─┤  <Z>\n",
      "\n",
      "0: ──RX(-0.87)─┤  <Z>\n"
     ]
    }
   ],
   "source": [
    "print(qml.draw(evaluate_grad_with_pl)(params))"
   ]
  },
  {
   "cell_type": "code",
   "execution_count": null,
   "id": "39dcd7d7-5500-461f-86a3-9f0fcd26eeb2",
   "metadata": {},
   "outputs": [],
   "source": []
  }
 ],
 "metadata": {
  "kernelspec": {
   "display_name": "Python 3 (ipykernel)",
   "language": "python",
   "name": "python3"
  },
  "language_info": {
   "codemirror_mode": {
    "name": "ipython",
    "version": 3
   },
   "file_extension": ".py",
   "mimetype": "text/x-python",
   "name": "python",
   "nbconvert_exporter": "python",
   "pygments_lexer": "ipython3",
   "version": "3.9.7"
  }
 },
 "nbformat": 4,
 "nbformat_minor": 5
}
