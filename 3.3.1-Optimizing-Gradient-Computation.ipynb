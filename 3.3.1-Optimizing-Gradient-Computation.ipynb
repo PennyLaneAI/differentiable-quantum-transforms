{
 "cells": [
  {
   "cell_type": "markdown",
   "metadata": {},
   "source": [
    "# 3.3.1. Optimizing gradient computation in a noisy setting"
   ]
  },
  {
   "cell_type": "code",
   "execution_count": 1,
   "metadata": {},
   "outputs": [],
   "source": [
    "import pennylane as qml\n",
    "from pennylane import numpy as np\n",
    "import matplotlib.pyplot as plt"
   ]
  },
  {
   "cell_type": "code",
   "execution_count": 2,
   "metadata": {},
   "outputs": [],
   "source": [
    "N = 1000\n",
    "dev = qml.device(\"default.qubit\", wires=2, shots=N)\n",
    "\n",
    "@qml.qnode(dev, max_diff=2)\n",
    "def circuit(x):\n",
    "    qml.Hadamard(wires=0)\n",
    "    qml.Hadamard(wires=1)\n",
    "    qml.SingleExcitation(x, wires=[0, 1])\n",
    "    H = qml.PauliX(0) @ qml.PauliX(1)\n",
    "    return qml.expval(H)"
   ]
  },
  {
   "cell_type": "code",
   "execution_count": 3,
   "metadata": {},
   "outputs": [],
   "source": [
    "def cost_and_grad(x, h):\n",
    "    \"\"\"Return the cost function to minimize, and the quantum gradient\"\"\"\n",
    "    g1 = qml.gradients.finite_diff(circuit, h=h)(x, shots=[(1, N)])\n",
    "    return circuit(x) + np.var(g1) / N + h, np.mean(g1)\n",
    "\n",
    "def cost(x, h):\n",
    "    \"\"\"Convenience function to return just the cost to minimize\"\"\"\n",
    "    return cost_and_grad(x, h)[0]"
   ]
  },
  {
   "cell_type": "code",
   "execution_count": 4,
   "metadata": {},
   "outputs": [],
   "source": [
    "opt = qml.GradientDescentOptimizer(stepsize=0.1)\n",
    "\n",
    "# PennyLane contains a wrapped version of NumPy which allows \n",
    "# for specification of trainable parameters using requires_grad\n",
    "h = np.array(1e-7, requires_grad=True)\n",
    "x = np.array(0.1, requires_grad=True)\n",
    "\n",
    "h_track = []\n",
    "cost_track = []\n",
    "\n",
    "for i in range(300):\n",
    "    h = np.clip(h, 0, 5)\n",
    "    x = np.clip(x, 0, 2 * np.pi)\n",
    "\n",
    "    h_track.append(h)\n",
    "    cost_track.append(circuit(x))\n",
    "\n",
    "    # as the cost function depends on the gradient of\n",
    "    # the circuit wrt x, we return it alongside the loss value to\n",
    "    # avoid additional computations\n",
    "    loss, x_grad = cost_and_grad(x, h)\n",
    "\n",
    "    # compute the gradient of the cost function wrt h\n",
    "    h_grad = qml.grad(cost, argnum=1)(x, h)\n",
    "    x, h = opt.apply_grad([x_grad, h_grad], (x, h))"
   ]
  },
  {
   "cell_type": "code",
   "execution_count": 5,
   "metadata": {},
   "outputs": [
    {
     "data": {
      "text/plain": [
       "[<matplotlib.lines.Line2D at 0x7ff06c33f700>]"
      ]
     },
     "execution_count": 5,
     "metadata": {},
     "output_type": "execute_result"
    },
    {
     "data": {
      "image/png": "[encoded data removed]",
      "text/plain": [
       "<Figure size 432x288 with 1 Axes>"
      ]
     },
     "metadata": {
      "needs_background": "light"
     },
     "output_type": "display_data"
    }
   ],
   "source": [
    "plt.plot(cost_track)"
   ]
  },
  {
   "cell_type": "code",
   "execution_count": null,
   "metadata": {},
   "outputs": [],
   "source": []
  }
 ],
 "metadata": {
  "kernelspec": {
   "display_name": "Python 3 (ipykernel)",
   "language": "python",
   "name": "python3"
  },
  "language_info": {
   "codemirror_mode": {
    "name": "ipython",
    "version": 3
   },
   "file_extension": ".py",
   "mimetype": "text/x-python",
   "name": "python",
   "nbconvert_exporter": "python",
   "pygments_lexer": "ipython3",
   "version": "3.9.7"
  }
 },
 "nbformat": 4,
 "nbformat_minor": 4
}
