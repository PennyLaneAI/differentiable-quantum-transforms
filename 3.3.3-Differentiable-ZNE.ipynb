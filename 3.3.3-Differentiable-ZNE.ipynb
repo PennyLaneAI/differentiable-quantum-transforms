{
 "cells": [
  {
   "cell_type": "markdown",
   "metadata": {},
   "source": [
    "# 3.3.3. Differentiable error mitigation"
   ]
  },
  {
   "cell_type": "markdown",
   "metadata": {},
   "source": [
    "In this notebook we demonstrate how qfunc transforms and batch transforms can be combined to perform error mitigation (simple linear extrapolation and unitary folding) that preserves differentiability of the parameters."
   ]
  },
  {
   "cell_type": "code",
   "execution_count": 1,
   "metadata": {},
   "outputs": [],
   "source": [
    "from functools import partial\n",
    "\n",
    "import pennylane as qml\n",
    "import pennylane.math as math\n",
    "from pennylane import numpy as np"
   ]
  },
  {
   "cell_type": "markdown",
   "metadata": {},
   "source": [
    "Define a quantum function transform that performs unitary folding."
   ]
  },
  {
   "cell_type": "code",
   "execution_count": 2,
   "metadata": {},
   "outputs": [],
   "source": [
    "@qml.qfunc_transform\n",
    "def unitary_folding(tape, scale_factor):\n",
    "    for op in tape.operations:\n",
    "        qml.apply(op)\n",
    "\n",
    "    num_folds = math.round((scale_factor - 1.0) / 2.0)\n",
    "    \n",
    "    for _ in range(int(num_folds)):\n",
    "        for op in tape.operations[::-1]:\n",
    "            op.adjoint()\n",
    "\n",
    "        for op in tape.operations:\n",
    "            qml.apply(op)\n",
    "\n",
    "    for m in tape.measurements:\n",
    "        qml.apply(m)"
   ]
  },
  {
   "cell_type": "markdown",
   "metadata": {},
   "source": [
    "The function below performs a linear fit while preserving the differentiability of the values and output."
   ]
  },
  {
   "cell_type": "code",
   "execution_count": 3,
   "metadata": {},
   "outputs": [],
   "source": [
    "def fit_zne(scale_factors, energies):\n",
    "    scale_factors = math.stack(scale_factors)\n",
    "    unwrapped_energies = math.stack(energies).reshape(len(energies))\n",
    "\n",
    "    N = len(energies)\n",
    "\n",
    "    sum_scales = math.sum(scale_factors)\n",
    "    sum_energies = math.sum(unwrapped_energies)\n",
    "\n",
    "    numerator = N * math.sum(math.multiply(scale_factors, unwrapped_energies)) - sum_scales * sum_energies\n",
    "    denominator = N * math.sum(scale_factors ** 2) - sum_scales ** 2\n",
    "    slope = numerator / denominator\n",
    "\n",
    "    intercept = (sum_energies - slope * sum_scales) / N\n",
    "\n",
    "    return intercept"
   ]
  },
  {
   "cell_type": "markdown",
   "metadata": {},
   "source": [
    "The ZNE batch transform is straightforward to define."
   ]
  },
  {
   "cell_type": "code",
   "execution_count": 4,
   "metadata": {},
   "outputs": [],
   "source": [
    "@qml.batch_transform\n",
    "def zne(tape, mitigation_transform, scale_factors):\n",
    "    with qml.QueuingManager.stop_recording():\n",
    "        tapes = [mitigation_transform.tape_fn(tape, scale) for scale in scale_factors]\n",
    "\n",
    "    processing_fn = partial(fit_zne, scale_factors)\n",
    "\n",
    "    return tapes, processing_fn"
   ]
  },
  {
   "cell_type": "markdown",
   "metadata": {},
   "source": [
    "Now let's apply the error mitigation in a noisy simulation. We use simulated hardware noise and the PennyLane-Qiskit plugin."
   ]
  },
  {
   "cell_type": "code",
   "execution_count": 5,
   "metadata": {},
   "outputs": [
    {
     "name": "stderr",
     "output_type": "stream",
     "text": [
      "/tmp/ipykernel_51852/2430488342.py:1: DeprecationWarning: The module 'qiskit.test.mock' is deprecated since Qiskit Terra 0.21.0, and will be removed 3 months or more later. Instead, you should import the desired object directly 'qiskit.providers.fake_provider'.\n",
      "  from qiskit.test.mock import FakeVigo\n"
     ]
    }
   ],
   "source": [
    "from qiskit.test.mock import FakeVigo\n",
    "from qiskit.providers.aer import QasmSimulator\n",
    "from qiskit.providers.aer.noise import NoiseModel\n",
    "\n",
    "device = QasmSimulator.from_backend(FakeVigo())\n",
    "noise_model = NoiseModel.from_backend(device)\n",
    "noisy_dev = qml.device(\n",
    "    \"qiskit.aer\", backend='qasm_simulator', wires=3, shots=10000, noise_model=noise_model\n",
    ")\n",
    "noisy_dev.set_transpile_args(**{\"optimization_level\" : 0})\n",
    "\n",
    "H = qml.Hamiltonian(\n",
    "    coeffs=[1.0, 2.0, 3.0], \n",
    "    observables=[\n",
    "        qml.PauliZ(0) @ qml.PauliZ(1), \n",
    "        qml.PauliZ(1) @ qml.PauliZ(2), \n",
    "        qml.PauliX(0) @ qml.PauliX(1) @ qml.PauliX(2)\n",
    "    ]\n",
    ")\n",
    "\n",
    "@zne(unitary_folding, [1.0, 3.0, 5.0, 7.0, 9.0])\n",
    "@qml.qnode(noisy_dev, diff_method='parameter-shift')\n",
    "def circuit(params):\n",
    "    qml.RX(params[0], wires=0)\n",
    "    qml.CNOT(wires=[0, 1])\n",
    "    qml.RY(params[1], wires=1)\n",
    "    qml.CNOT(wires=[1, 2])\n",
    "    qml.RZ(params[2], wires=2)\n",
    "    qml.CNOT(wires=[2, 0])\n",
    "    return qml.expval(H)\n",
    "\n",
    "params = np.array([0.5, 0.1, -0.2], requires_grad=True)"
   ]
  },
  {
   "cell_type": "markdown",
   "metadata": {},
   "source": [
    "Let's execute the circuit (note there will be some randomness in the output value). Note that the output of the circuit is the error-mitigated expectation value directly. We can compute its gradient with respect to the input parameters."
   ]
  },
  {
   "cell_type": "code",
   "execution_count": 6,
   "metadata": {},
   "outputs": [
    {
     "data": {
      "text/plain": [
       "tensor(2.85775, requires_grad=True)"
      ]
     },
     "execution_count": 6,
     "metadata": {},
     "output_type": "execute_result"
    }
   ],
   "source": [
    "circuit(params)"
   ]
  },
  {
   "cell_type": "code",
   "execution_count": 7,
   "metadata": {},
   "outputs": [
    {
     "data": {
      "text/plain": [
       "array([-0.51622 ,  2.01925 ,  0.058645])"
      ]
     },
     "execution_count": 7,
     "metadata": {},
     "output_type": "execute_result"
    }
   ],
   "source": [
    "qml.grad(circuit)(params)"
   ]
  },
  {
   "cell_type": "code",
   "execution_count": null,
   "metadata": {},
   "outputs": [],
   "source": []
  }
 ],
 "metadata": {
  "kernelspec": {
   "display_name": "Python 3 (ipykernel)",
   "language": "python",
   "name": "python3"
  },
  "language_info": {
   "codemirror_mode": {
    "name": "ipython",
    "version": 3
   },
   "file_extension": ".py",
   "mimetype": "text/x-python",
   "name": "python",
   "nbconvert_exporter": "python",
   "pygments_lexer": "ipython3",
   "version": "3.9.7"
  }
 },
 "nbformat": 4,
 "nbformat_minor": 4
}
